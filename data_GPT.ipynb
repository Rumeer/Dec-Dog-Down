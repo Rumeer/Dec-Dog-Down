{
  "nbformat": 4,
  "nbformat_minor": 0,
  "metadata": {
    "colab": {
      "provenance": [],
      "authorship_tag": "ABX9TyMMGC2v7yyB01Rc9WQ1Y98b"
    },
    "kernelspec": {
      "name": "python3",
      "display_name": "Python 3"
    },
    "language_info": {
      "name": "python"
    }
  },
  "cells": [
    {
      "cell_type": "code",
      "source": [
        "import openai\n",
        "from io import StringIO\n",
        "import pandas as pd"
      ],
      "metadata": {
        "id": "fxBF6WKi7cd8"
      },
      "execution_count": null,
      "outputs": []
    },
    {
      "cell_type": "code",
      "source": [
        "from google.colab import auth\n",
        "auth.authenticate_user()\n",
        "from googleapiclient.discovery import build\n",
        "drive_service = build('drive', 'v3')\n",
        "from google.colab import auth\n",
        "auth.authenticate_user()\n",
        "import gspread\n",
        "from google.auth import default\n",
        "creds, _ = default()\n",
        "\n",
        "gc = gspread.authorize(creds)\n"
      ],
      "metadata": {
        "id": "IOEFrO9J7eu2"
      },
      "execution_count": null,
      "outputs": []
    },
    {
      "cell_type": "code",
      "source": [
        "worksheet = gc.open('test data').sheet1\n",
        "\n",
        "# get_all_values gives a list of rows.\n",
        "rows = worksheet.get_all_values()\n",
        "df = pd.DataFrame.from_records(rows)\n",
        "print(df)"
      ],
      "metadata": {
        "colab": {
          "base_uri": "https://localhost:8080/"
        },
        "id": "5dVErtMO_0qX",
        "outputId": "663d332a-e48c-457f-e8d3-0557e244170e"
      },
      "execution_count": null,
      "outputs": [
        {
          "output_type": "stream",
          "name": "stdout",
          "text": [
            "                               0\n",
            "0  5 english words that end in f\n"
          ]
        }
      ]
    },
    {
      "cell_type": "code",
      "source": [],
      "metadata": {
        "id": "B5Q21-FKCsQh"
      },
      "execution_count": null,
      "outputs": []
    },
    {
      "cell_type": "code",
      "source": [
        "# Set the model to use for generating text.\n",
        "model_engine = \"text-davinci-003\"\n",
        "\n",
        "# Set the input text to the table string.\n",
        "prompt = str(df)\n",
        "\n",
        "# Generate text using the GPT-3 API.\n",
        "completions = openai.Completion.create(\n",
        "    engine=model_engine,\n",
        "    prompt=prompt,\n",
        "    max_tokens=1024,\n",
        "    n=1,\n",
        "    stop=None,\n",
        "    temperature=1,\n",
        ")\n",
        "\n",
        "# Print the generated text.\n",
        "generated_text = completions.choices[0].text\n",
        "print(generated_text)"
      ],
      "metadata": {
        "colab": {
          "base_uri": "https://localhost:8080/"
        },
        "id": "gJoljqzgDyRt",
        "outputId": "e817b7f0-cc69-47b2-f2d7-819e9472a6d0"
      },
      "execution_count": null,
      "outputs": [
        {
          "output_type": "stream",
          "name": "stdout",
          "text": [
            " ?                                              \n",
            "\n",
            "1. Grief\n",
            "2. Staff\n",
            "3. Bofuf\n",
            "4. Reef\n",
            "5. Puff\n"
          ]
        }
      ]
    },
    {
      "cell_type": "code",
      "source": [],
      "metadata": {
        "id": "_aUUBFjtD0EL"
      },
      "execution_count": null,
      "outputs": []
    }
  ]
}